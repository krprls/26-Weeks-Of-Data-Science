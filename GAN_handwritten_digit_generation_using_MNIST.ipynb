{
  "nbformat": 4,
  "nbformat_minor": 0,
  "metadata": {
    "colab": {
      "name": "GAN - handwritten digit generation using MNIST.ipynb",
      "provenance": [],
      "collapsed_sections": [],
      "authorship_tag": "ABX9TyN1IzGSfh/oLIQWr+32L7lp",
      "include_colab_link": true
    },
    "kernelspec": {
      "name": "python3",
      "display_name": "Python 3"
    },
    "accelerator": "GPU"
  },
  "cells": [
    {
      "cell_type": "markdown",
      "metadata": {
        "id": "view-in-github",
        "colab_type": "text"
      },
      "source": [
        "<a href=\"https://colab.research.google.com/github/anshupandey/26-Weeks-Of-Data-Science/blob/master/GAN_handwritten_digit_generation_using_MNIST.ipynb\" target=\"_parent\"><img src=\"https://colab.research.google.com/assets/colab-badge.svg\" alt=\"Open In Colab\"/></a>"
      ]
    },
    {
      "cell_type": "code",
      "metadata": {
        "id": "lO-0rfCuSCpw",
        "colab_type": "code",
        "colab": {}
      },
      "source": [
        "from tensorflow.keras import layers,models\n",
        "from tensorflow.keras.datasets import mnist\n",
        "import matplotlib.pyplot as plt\n",
        "import numpy as np\n",
        "\n",
        "import tensorflow as tf\n",
        "tf.config.experimental_run_functions_eagerly(True)"
      ],
      "execution_count": 0,
      "outputs": []
    },
    {
      "cell_type": "code",
      "metadata": {
        "id": "NkDB-DrOK2PS",
        "colab_type": "code",
        "colab": {}
      },
      "source": [
        ""
      ],
      "execution_count": 0,
      "outputs": []
    },
    {
      "cell_type": "code",
      "metadata": {
        "id": "RVoA5RoUK2Ta",
        "colab_type": "code",
        "colab": {}
      },
      "source": [
        ""
      ],
      "execution_count": 0,
      "outputs": []
    },
    {
      "cell_type": "code",
      "metadata": {
        "id": "ijlDrx3OK2es",
        "colab_type": "code",
        "colab": {}
      },
      "source": [
        ""
      ],
      "execution_count": 0,
      "outputs": []
    },
    {
      "cell_type": "code",
      "metadata": {
        "id": "Mwcin5ATK2h8",
        "colab_type": "code",
        "colab": {}
      },
      "source": [
        ""
      ],
      "execution_count": 0,
      "outputs": []
    },
    {
      "cell_type": "code",
      "metadata": {
        "id": "7gaHWdbYSbs7",
        "colab_type": "code",
        "outputId": "7508ec7f-1609-4a48-d2c2-ec37237652c6",
        "colab": {
          "base_uri": "https://localhost:8080/",
          "height": 87
        }
      },
      "source": [
        "#load the data\n",
        "(xtrain,ytrain),(xtest,ytest) = mnist.load_data()\n",
        "print(xtrain.shape)\n",
        "print(ytrain.shape)\n",
        "print(xtest.shape)\n",
        "print(ytest.shape)"
      ],
      "execution_count": 0,
      "outputs": [
        {
          "output_type": "stream",
          "text": [
            "(60000, 28, 28)\n",
            "(60000,)\n",
            "(10000, 28, 28)\n",
            "(10000,)\n"
          ],
          "name": "stdout"
        }
      ]
    },
    {
      "cell_type": "code",
      "metadata": {
        "id": "nQAKsWOySiVb",
        "colab_type": "code",
        "outputId": "37fc4453-2b78-4d2b-89b9-a0a351a0771a",
        "colab": {
          "base_uri": "https://localhost:8080/",
          "height": 265
        }
      },
      "source": [
        "plt.imshow(xtrain[0],cmap='gray')\n",
        "plt.show()"
      ],
      "execution_count": 0,
      "outputs": [
        {
          "output_type": "display_data",
          "data": {
            "image/png": "[encoded data removed]",
            "text/plain": [
              "<Figure size 432x288 with 1 Axes>"
            ]
          },
          "metadata": {
            "tags": [],
            "needs_background": "light"
          }
        }
      ]
    },
    {
      "cell_type": "markdown",
      "metadata": {
        "id": "UtPUVksdTC3L",
        "colab_type": "text"
      },
      "source": [
        "# Generator model\n"
      ]
    },
    {
      "cell_type": "code",
      "metadata": {
        "id": "O9WQi4rHSwpT",
        "colab_type": "code",
        "colab": {}
      },
      "source": [
        "model1 = models.Sequential()\n",
        "model1.add(layers.Dense(1000,input_shape=(100,),activation='relu'))\n",
        "model1.add(layers.Dense(128*7*7,activation='relu'))\n",
        "model1.add(layers.Reshape((7,7,128)))\n",
        "model1.add(layers.UpSampling2D(size=(2,2)))\n",
        "model1.add(layers.Conv2D(64,(5,5),padding=\"same\",activation='relu'))\n",
        "model1.add(layers.UpSampling2D(size=(2,2)))\n",
        "model1.add(layers.Conv2D(1,(5,5),padding=\"same\",activation='tanh'))\n"
      ],
      "execution_count": 0,
      "outputs": []
    },
    {
      "cell_type": "code",
      "metadata": {
        "id": "j57vlAQxVJ5p",
        "colab_type": "code",
        "outputId": "82389a5a-ac04-4a60-96b3-4eb55e1acd14",
        "colab": {
          "base_uri": "https://localhost:8080/",
          "height": 399
        }
      },
      "source": [
        "model1.summary()"
      ],
      "execution_count": 0,
      "outputs": [
        {
          "output_type": "stream",
          "text": [
            "Model: \"sequential\"\n",
            "_________________________________________________________________\n",
            "Layer (type)                 Output Shape              Param #   \n",
            "=================================================================\n",
            "dense (Dense)                (None, 1000)              101000    \n",
            "_________________________________________________________________\n",
            "dense_1 (Dense)              (None, 6272)              6278272   \n",
            "_________________________________________________________________\n",
            "reshape (Reshape)            (None, 7, 7, 128)         0         \n",
            "_________________________________________________________________\n",
            "up_sampling2d (UpSampling2D) (None, 14, 14, 128)       0         \n",
            "_________________________________________________________________\n",
            "conv2d (Conv2D)              (None, 14, 14, 64)        204864    \n",
            "_________________________________________________________________\n",
            "up_sampling2d_1 (UpSampling2 (None, 28, 28, 64)        0         \n",
            "_________________________________________________________________\n",
            "conv2d_1 (Conv2D)            (None, 28, 28, 1)         1601      \n",
            "=================================================================\n",
            "Total params: 6,585,737\n",
            "Trainable params: 6,585,737\n",
            "Non-trainable params: 0\n",
            "_________________________________________________________________\n"
          ],
          "name": "stdout"
        }
      ]
    },
    {
      "cell_type": "code",
      "metadata": {
        "id": "ALgpn7A2VT1J",
        "colab_type": "code",
        "outputId": "259f5093-927f-4a1a-ab68-394fa0b50ffe",
        "colab": {
          "base_uri": "https://localhost:8080/",
          "height": 758
        }
      },
      "source": [
        "from tensorflow.keras.utils import plot_model\n",
        "plot_model(model1)"
      ],
      "execution_count": 0,
      "outputs": [
        {
          "output_type": "execute_result",
          "data": {
            "image/png": "[encoded data removed]",
            "text/plain": [
              "<IPython.core.display.Image object>"
            ]
          },
          "metadata": {
            "tags": []
          },
          "execution_count": 6
        }
      ]
    },
    {
      "cell_type": "markdown",
      "metadata": {
        "id": "GuPUniQqWG6V",
        "colab_type": "text"
      },
      "source": [
        "# Discriminator"
      ]
    },
    {
      "cell_type": "code",
      "metadata": {
        "id": "LBniXUnOVnse",
        "colab_type": "code",
        "colab": {}
      },
      "source": [
        "model2 = models.Sequential()\n",
        "model2.add(layers.Conv2D(64,(5,5),activation='relu',input_shape=(28,28,1),padding='same'))\n",
        "model2.add(layers.MaxPooling2D(pool_size=(2,2)))\n",
        "model2.add(layers.Conv2D(128,(5,5),activation='relu',padding='same'))\n",
        "model2.add(layers.MaxPooling2D(pool_size=(2,2)))\n",
        "model2.add(layers.Flatten())\n",
        "model2.add(layers.Dense(100,activation='relu'))\n",
        "model2.add(layers.Dense(1,activation='sigmoid'))\n"
      ],
      "execution_count": 0,
      "outputs": []
    },
    {
      "cell_type": "code",
      "metadata": {
        "id": "UzFkQqRsXU6Y",
        "colab_type": "code",
        "outputId": "b8820734-f90e-4ed0-a304-96af26fbe6f9",
        "colab": {
          "base_uri": "https://localhost:8080/",
          "height": 399
        }
      },
      "source": [
        "model2.summary()"
      ],
      "execution_count": 0,
      "outputs": [
        {
          "output_type": "stream",
          "text": [
            "Model: \"sequential_1\"\n",
            "_________________________________________________________________\n",
            "Layer (type)                 Output Shape              Param #   \n",
            "=================================================================\n",
            "conv2d_2 (Conv2D)            (None, 28, 28, 64)        1664      \n",
            "_________________________________________________________________\n",
            "max_pooling2d (MaxPooling2D) (None, 14, 14, 64)        0         \n",
            "_________________________________________________________________\n",
            "conv2d_3 (Conv2D)            (None, 14, 14, 128)       204928    \n",
            "_________________________________________________________________\n",
            "max_pooling2d_1 (MaxPooling2 (None, 7, 7, 128)         0         \n",
            "_________________________________________________________________\n",
            "flatten (Flatten)            (None, 6272)              0         \n",
            "_________________________________________________________________\n",
            "dense_2 (Dense)              (None, 100)               627300    \n",
            "_________________________________________________________________\n",
            "dense_3 (Dense)              (None, 1)                 101       \n",
            "=================================================================\n",
            "Total params: 833,993\n",
            "Trainable params: 833,993\n",
            "Non-trainable params: 0\n",
            "_________________________________________________________________\n"
          ],
          "name": "stdout"
        }
      ]
    },
    {
      "cell_type": "code",
      "metadata": {
        "id": "vsrzy8tLXdLK",
        "colab_type": "code",
        "colab": {}
      },
      "source": [
        "model1.compile(loss='binary_crossentropy',optimizer='adam')\n",
        "model2.compile(loss='binary_crossentropy',optimizer='adam')"
      ],
      "execution_count": 0,
      "outputs": []
    },
    {
      "cell_type": "code",
      "metadata": {
        "id": "ifb-DAH7Xywm",
        "colab_type": "code",
        "colab": {}
      },
      "source": [
        "model2.trainable=False\n",
        "input_layer = layers.Input(shape=(100,))\n",
        "layer1 = model1(input_layer) # layer1 = layers.Dense(10,activation='relu)(input_layer)\n",
        "output_layer = model2(layer1)\n",
        "final_model = models.Model(inputs=input_layer,outputs=output_layer)\n",
        "final_model.compile(loss='binary_crossentropy',optimizer='adam')"
      ],
      "execution_count": 0,
      "outputs": []
    },
    {
      "cell_type": "code",
      "metadata": {
        "id": "UOphl6e9Yg6e",
        "colab_type": "code",
        "outputId": "d0607834-d452-4adf-f7cf-17ecde4cf50b",
        "colab": {
          "base_uri": "https://localhost:8080/",
          "height": 260
        }
      },
      "source": [
        "final_model.summary()"
      ],
      "execution_count": 0,
      "outputs": [
        {
          "output_type": "stream",
          "text": [
            "Model: \"model\"\n",
            "_________________________________________________________________\n",
            "Layer (type)                 Output Shape              Param #   \n",
            "=================================================================\n",
            "input_1 (InputLayer)         [(None, 100)]             0         \n",
            "_________________________________________________________________\n",
            "sequential (Sequential)      (None, 28, 28, 1)         6585737   \n",
            "_________________________________________________________________\n",
            "sequential_1 (Sequential)    (None, 1)                 833993    \n",
            "=================================================================\n",
            "Total params: 7,419,730\n",
            "Trainable params: 6,585,737\n",
            "Non-trainable params: 833,993\n",
            "_________________________________________________________________\n"
          ],
          "name": "stdout"
        }
      ]
    },
    {
      "cell_type": "code",
      "metadata": {
        "id": "IdJKS4CwYjyc",
        "colab_type": "code",
        "outputId": "a61886fd-9d5f-442a-a694-c32a3dd54e52",
        "colab": {
          "base_uri": "https://localhost:8080/",
          "height": 52
        }
      },
      "source": [
        "print(xtrain.shape)\n",
        "print(xtest.shape)"
      ],
      "execution_count": 0,
      "outputs": [
        {
          "output_type": "stream",
          "text": [
            "(60000, 28, 28)\n",
            "(10000, 28, 28)\n"
          ],
          "name": "stdout"
        }
      ]
    },
    {
      "cell_type": "code",
      "metadata": {
        "id": "DkRj6fdOZo52",
        "colab_type": "code",
        "outputId": "8a7db3cf-4632-4228-a7e5-1c81bb59ef52",
        "colab": {
          "base_uri": "https://localhost:8080/",
          "height": 52
        }
      },
      "source": [
        "xtrain = xtrain.reshape(60000,28,28,1)\n",
        "xtest = xtest.reshape(10000,28,28,1)\n",
        "xtrain = xtrain/255\n",
        "xtest = xtest/255\n",
        "print(xtrain.shape)\n",
        "print(xtest.shape)"
      ],
      "execution_count": 0,
      "outputs": [
        {
          "output_type": "stream",
          "text": [
            "(60000, 28, 28, 1)\n",
            "(10000, 28, 28, 1)\n"
          ],
          "name": "stdout"
        }
      ]
    },
    {
      "cell_type": "code",
      "metadata": {
        "id": "ufkSCAYgZ1wS",
        "colab_type": "code",
        "outputId": "4abc3417-943a-4287-adcb-0f227d072f14",
        "colab": {
          "base_uri": "https://localhost:8080/",
          "height": 191
        }
      },
      "source": [
        "batch_size=1000\n",
        "\n",
        "for i in range(10):\n",
        "  steps_per_epoch = xtrain.shape[0]//batch_size\n",
        "  for j in range(steps_per_epoch):\n",
        "    noise_input = np.random.rand(batch_size,100)\n",
        "    # getting prediction of images from generator by passing noise\n",
        "    predictions = model1.predict(noise_input,batch_size=batch_size) \n",
        "    \n",
        "    # getting a batch of 1000 images randomly picked form xtrain\n",
        "    real_img_batch = xtrain[np.random.randint(0,60000,size=batch_size)]\n",
        "    # concatenate the real images with the fake images\n",
        "\n",
        "    x = np.concatenate([predictions,real_img_batch])\n",
        "    y_dis = [0]*batch_size + [1]*batch_size\n",
        "\n",
        "    y_dis = np.array(y_dis).reshape(-1,1)\n",
        "    #train the discriminator\n",
        "    model2.trainable=True\n",
        "    model2.train_on_batch(x,y_dis)\n",
        "\n",
        "    # train the generator\n",
        "    noise_input = np.random.rand(batch_size,100)\n",
        "    y_gen = [1]*batch_size\n",
        "    y_gen = np.array(y_gen).reshape(-1,1)\n",
        "    model2.trainable=False\n",
        "    final_model.train_on_batch(noise_input,y_gen)\n",
        "  print(\"epoch completed = \",i)\n",
        "\n",
        "\n",
        "\n",
        "\n"
      ],
      "execution_count": 0,
      "outputs": [
        {
          "output_type": "stream",
          "text": [
            "epoch completed =  0\n",
            "epoch completed =  1\n",
            "epoch completed =  2\n",
            "epoch completed =  3\n",
            "epoch completed =  4\n",
            "epoch completed =  5\n",
            "epoch completed =  6\n",
            "epoch completed =  7\n",
            "epoch completed =  8\n",
            "epoch completed =  9\n"
          ],
          "name": "stdout"
        }
      ]
    },
    {
      "cell_type": "code",
      "metadata": {
        "id": "AtNqhNOrbGGe",
        "colab_type": "code",
        "colab": {}
      },
      "source": [
        "model1.save_weights(\"generator_weights\")\n",
        "model2.save_weights(\"discriminator_weights\")\n"
      ],
      "execution_count": 0,
      "outputs": []
    },
    {
      "cell_type": "code",
      "metadata": {
        "id": "MgNw4TnPd51x",
        "colab_type": "code",
        "outputId": "c76349b0-a042-4618-c244-e1f9d91c3c05",
        "colab": {
          "base_uri": "https://localhost:8080/",
          "height": 35
        }
      },
      "source": [
        "model1.compile(loss=\"binary_crossentropy\",optimizer='adam')\n",
        "model1.load_weights(\"generator_weights\")\n",
        "\n",
        "noise = np.random.rand(batch_size,100)\n",
        "g_image = model1.predict(noise)\n",
        "g_image.shape"
      ],
      "execution_count": 0,
      "outputs": [
        {
          "output_type": "execute_result",
          "data": {
            "text/plain": [
              "(1000, 28, 28, 1)"
            ]
          },
          "metadata": {
            "tags": []
          },
          "execution_count": 17
        }
      ]
    },
    {
      "cell_type": "code",
      "metadata": {
        "id": "T8H0nEtGgsbx",
        "colab_type": "code",
        "outputId": "88d81d47-4995-4828-c175-df17cdf7176a",
        "colab": {
          "base_uri": "https://localhost:8080/",
          "height": 265
        }
      },
      "source": [
        "plt.imshow(g_image[500,:,:,:].reshape(28,28),cmap='gray')\n",
        "plt.show()"
      ],
      "execution_count": 0,
      "outputs": [
        {
          "output_type": "display_data",
          "data": {
            "image/png": "[encoded data removed]",
            "text/plain": [
              "<Figure size 432x288 with 1 Axes>"
            ]
          },
          "metadata": {
            "tags": [],
            "needs_background": "light"
          }
        }
      ]
    },
    {
      "cell_type": "code",
      "metadata": {
        "id": "kQItAVP3hDg2",
        "colab_type": "code",
        "colab": {}
      },
      "source": [
        ""
      ],
      "execution_count": 0,
      "outputs": []
    },
    {
      "cell_type": "code",
      "metadata": {
        "id": "5I8LrbhJhQoC",
        "colab_type": "code",
        "colab": {}
      },
      "source": [
        ""
      ],
      "execution_count": 0,
      "outputs": []
    }
  ]
}